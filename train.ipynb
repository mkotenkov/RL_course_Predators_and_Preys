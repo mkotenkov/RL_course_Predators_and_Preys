{
 "cells": [
  {
   "cell_type": "code",
   "execution_count": 1,
   "metadata": {},
   "outputs": [
    {
     "name": "stderr",
     "output_type": "stream",
     "text": [
      "/Users/maksimkoltugin/Desktop/код/ВШЭ/RL_course_Predators_and_Preys/.venv/lib/python3.9/site-packages/tqdm/auto.py:21: TqdmWarning: IProgress not found. Please update jupyter and ipywidgets. See https://ipywidgets.readthedocs.io/en/stable/user_install.html\n",
      "  from .autonotebook import tqdm as notebook_tqdm\n"
     ]
    }
   ],
   "source": [
    "from modules.utils import GlobalConfig, TrainConfig, Logger, paint, get_env, simulate_episode, evaluate\n",
    "from modules.DQN import DQN\n",
    "from modules.reward import Reward\n",
    "from modules.preprocess import preprocess\n",
    "\n",
    "import numpy as np\n",
    "from tqdm.auto import trange\n",
    "\n",
    "import torch\n",
    "\n",
    "import math\n",
    "\n",
    "import random\n",
    "\n",
    "import warnings\n",
    "warnings.filterwarnings('ignore')\n",
    "\n",
    "import os\n",
    "\n",
    "# 1 right\n",
    "# 2 left\n",
    "# 3 up\n",
    "# 4 down\n",
    "\n",
    "global_config = GlobalConfig(\n",
    "    device='cuda' if torch.cuda.is_available() else 'cpu',\n",
    "    n_actions=5,\n",
    "    n_predators=4,\n",
    "    n_masks=5,\n",
    "    map_size=40\n",
    ")"
   ]
  },
  {
   "cell_type": "markdown",
   "metadata": {},
   "source": [
    "# TRAIN"
   ]
  },
  {
   "cell_type": "code",
   "execution_count": 2,
   "metadata": {},
   "outputs": [
    {
     "name": "stderr",
     "output_type": "stream",
     "text": [
      " 27%|██▋       | 266/1000 [00:32<02:14,  5.48it/s]"
     ]
    }
   ],
   "source": [
    "train_config = TrainConfig(\n",
    "    description='after adding extra inputs',    \n",
    "    max_steps_for_episode=300, \n",
    "    gamma = 0.9,\n",
    "    initial_steps=1000, # 3000\n",
    "    steps=100_000,\n",
    "    steps_per_update=3,\n",
    "    steps_per_paint=500, # 500\n",
    "    steps_per_eval=2500, # 5000\n",
    "    buffer_size=10_000,\n",
    "    batch_size=64,\n",
    "    learning_rate=1e-2,\n",
    "    eps_start=0.9, \n",
    "    eps_end=0.05,\n",
    "    eps_decay=1000,\n",
    "    tau=0.01, # the update rate of the target network, was 0.005\n",
    "    reward_params=dict(\n",
    "        w_dist_change=-0.5,\n",
    "        w_kill_prey=1.,\n",
    "        w_kill_enemy=2.1,\n",
    "        w_kill_bonus=1.3, \n",
    "        gamma_for_bonus_count=0.5,\n",
    "        n_nearest_targets=2,\n",
    "    ),\n",
    "    seed=1234 \n",
    ")\n",
    "\n",
    "def train(global_config, train_config):\n",
    "    model = DQN(global_config, train_config).to(global_config.device).train()\n",
    "    def get_difficulty(): return model.steps_done / train_config.steps\n",
    "    logger = Logger(train_config, model)\n",
    "\n",
    "    # INITIAL STEPS\n",
    "    env = get_env(global_config, train_config, difficulty=get_difficulty())\n",
    "    state, info = env.reset()\n",
    "    processed_state = preprocess(state, info)\n",
    "    r = Reward(global_config, train_config)\n",
    "    for _ in trange(train_config.initial_steps):\n",
    "        actions = model.get_actions(processed_state, random=True)\n",
    "        next_state, done, next_info = env.step(actions)\n",
    "        next_processed_state = preprocess(next_state, next_info)\n",
    "        reward = r(processed_state, info, next_processed_state, next_info)\n",
    "        model.consume_transition(processed_state, actions, next_processed_state, reward, done)\n",
    "        state, info = (next_state, next_info) if not done else env.reset()\n",
    "        processed_state = preprocess(state, info)\n",
    "\n",
    "    env = get_env(global_config, train_config, difficulty=get_difficulty())\n",
    "    state, info = env.reset()\n",
    "    processed_state = preprocess(state, info)\n",
    "    r = Reward(global_config, train_config)\n",
    "    score_difference = None\n",
    "\n",
    "    try:\n",
    "        for _ in trange(train_config.steps):\n",
    "            # ========== step ==========================================================\n",
    "            eps_threshold = train_config.eps_end + (train_config.eps_start - train_config.eps_end) * math.exp(-1. * model.steps_done / train_config.eps_decay)\n",
    "            actions = model.get_actions(processed_state, random=(random.random() < eps_threshold))            \n",
    "            next_state, done, next_info = env.step(actions)\n",
    "            next_processed_state = preprocess(next_state, next_info)\n",
    "            reward = r(processed_state, info, next_processed_state, next_info)\n",
    "            model.consume_transition(processed_state, actions, next_processed_state, reward, done)\n",
    "\n",
    "            if done:                \n",
    "                env = get_env(global_config, train_config, difficulty=get_difficulty())\n",
    "                state, info = env.reset()\n",
    "            else:\n",
    "                state, info = next_state, next_info\n",
    "\n",
    "            processed_state = preprocess(state, info)\n",
    "\n",
    "            # ========== updates =======================================================\n",
    "            if model.steps_done % train_config.steps_per_update == 0:\n",
    "                loss = model.update_policy_network()\n",
    "\n",
    "            model.soft_update_target_network()  # each step\n",
    "\n",
    "            if model.steps_done % train_config.steps_per_paint == 0 and model.steps_done > 0:\n",
    "                paint(logger)\n",
    "\n",
    "            if model.steps_done % train_config.steps_per_eval == 0 and model.steps_done > 0:\n",
    "                os.makedirs(logger.curr_subfolder_path + '/gifs', exist_ok=True)\n",
    "                os.makedirs(logger.curr_subfolder_path + '/weights', exist_ok=True)\n",
    "                gif_path = f'{logger.curr_subfolder_path}/gifs/{model.steps_done}_steps.gif'\n",
    "                simulate_episode(model, get_difficulty(), gif_path)\n",
    "                score_difference = evaluate(model, n_episodes=5)   \n",
    "                model.save(logger.curr_subfolder_path + f'/weights/{model.steps_done//1000}k_steps_{round(score_difference, 2)}_score.pt')     \n",
    "\n",
    "            model.steps_done += 1\n",
    "\n",
    "            # ========== logs ==========================================================\n",
    "            logger.add('eps', eps_threshold)\n",
    "            logger.add('reward', reward.mean())            \n",
    "            logger.add('loss', loss)\n",
    "            logger.add('score_difference', score_difference)\n",
    "\n",
    "    except KeyboardInterrupt:\n",
    "        print('Training interrupted')\n",
    "\n",
    "    except Exception as e:\n",
    "        raise       \n",
    "\n",
    "    finally:\n",
    "        logger.save()\n",
    "        model.save(logger.curr_subfolder_path + f'/weights/{model.steps_done//1000}k_steps_{round(score_difference, 2)}_score.pt')\n",
    "        paint(logger, save_plots=True)\n",
    "        return model\n",
    "\n",
    "\n",
    "model = train(global_config, train_config)"
   ]
  },
  {
   "cell_type": "code",
   "execution_count": null,
   "metadata": {},
   "outputs": [
    {
     "data": {
      "text/plain": [
       "0.5167464114832536"
      ]
     },
     "execution_count": 3,
     "metadata": {},
     "output_type": "execute_result"
    }
   ],
   "source": [
    "model = DQN(global_config, train_config).to(global_config.device).eval()\n",
    "model.load('logs/1/weights/15k_steps_0.35_score.pt')\n",
    "\n",
    "simulate_episode(model, 0.15, '00.gif')"
   ]
  },
  {
   "cell_type": "markdown",
   "metadata": {},
   "source": [
    "# TODO"
   ]
  },
  {
   "cell_type": "markdown",
   "metadata": {},
   "source": [
    "# Идеи\n",
    "\n",
    "1. зафорсить оптимальные действия в инишал буффер ??\n",
    "2. добавить шедулер ??\n",
    "3. если заработает бейзлайн, подумать как добавить возм-ть выучить \"бфс\"\n",
    "4. добавить маску с 1 в точке (20, 20)\n",
    "5. double or dueling DQN"
   ]
  },
  {
   "cell_type": "markdown",
   "metadata": {},
   "source": []
  }
 ],
 "metadata": {
  "kernelspec": {
   "display_name": ".venv",
   "language": "python",
   "name": "python3"
  },
  "language_info": {
   "codemirror_mode": {
    "name": "ipython",
    "version": 3
   },
   "file_extension": ".py",
   "mimetype": "text/x-python",
   "name": "python",
   "nbconvert_exporter": "python",
   "pygments_lexer": "ipython3",
   "version": "3.9.6"
  }
 },
 "nbformat": 4,
 "nbformat_minor": 2
}
