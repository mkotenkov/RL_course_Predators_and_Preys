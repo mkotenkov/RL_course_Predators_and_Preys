{
 "cells": [
  {
   "cell_type": "code",
   "execution_count": 2,
   "metadata": {},
   "outputs": [
    {
     "name": "stderr",
     "output_type": "stream",
     "text": [
      "/Users/maksimkoltugin/Desktop/код/ВШЭ/RL_course_Predators_and_Preys/.venv/lib/python3.9/site-packages/tqdm/auto.py:21: TqdmWarning: IProgress not found. Please update jupyter and ipywidgets. See https://ipywidgets.readthedocs.io/en/stable/user_install.html\n",
      "  from .autonotebook import tqdm as notebook_tqdm\n"
     ]
    }
   ],
   "source": [
    "import torch\n",
    "\n",
    "from modules.utils import GlobalConfig, TrainConfig, Logger, paint, get_env, simulate_episode, evaluate\n",
    "from modules.DQN import DQN\n",
    "\n",
    "from world.envs import VersusBotEnv\n",
    "from world.realm import Realm\n",
    "from world.map_loaders.two_teams import TwoTeamLabyrinthMapLoader, TwoTeamMapLoader, TwoTeamRocksMapLoader\n",
    "from world.scripted_agents import ClosestTargetAgent\n",
    "from world.utils import RenderedEnvWrapper\n",
    "\n",
    "from modules.create_gif import create_gif, get_text_info, create_video_from_gif\n",
    "from modules.preprocess import preprocess\n",
    "from modules.reward import Reward\n",
    "\n",
    "import os\n",
    "import random\n",
    "import numpy as np\n",
    "\n",
    "from IPython.display import clear_output\n",
    "from dataclasses import dataclass\n",
    "from matplotlib import pyplot as plt\n",
    "from collections import defaultdict\n",
    "\n",
    "global_config = GlobalConfig(\n",
    "    device='cuda' if torch.cuda.is_available() else 'cpu',\n",
    "    n_actions=5,\n",
    "    n_predators=5,\n",
    "    n_masks=5,\n",
    "    map_size=40\n",
    ")\n",
    "\n",
    "train_config = TrainConfig(\n",
    "    description='after adding extra inputs',\n",
    "    max_steps_for_episode=300,\n",
    "    gamma=0.9,\n",
    "    initial_steps=300,  # 3000\n",
    "    steps=100_000,\n",
    "    steps_per_update=3,\n",
    "    steps_per_paint=250,  # 500\n",
    "    steps_per_eval=1000,  # 5000\n",
    "    buffer_size=10_000,\n",
    "    batch_size=64,\n",
    "    learning_rate=0.001,\n",
    "    eps_start=0.9,\n",
    "    eps_end=0.05,\n",
    "    eps_decay=1000,\n",
    "    tau=0.005,  # the update rate of the target network, was 0.005\n",
    "    reward_params=dict(\n",
    "        w_dist_change=-0.5,\n",
    "        w_kill_prey=1.,\n",
    "        w_kill_enemy=3.,\n",
    "        w_kill_bonus=1.3,\n",
    "        standing_still_penalty=-0.7,\n",
    "        gamma_for_bonus_count=0.5,\n",
    "        n_nearest_targets=2,\n",
    "    ),\n",
    "    seed=1234\n",
    ")"
   ]
  },
  {
   "cell_type": "markdown",
   "metadata": {},
   "source": [
    "# Model impovement"
   ]
  },
  {
   "cell_type": "code",
   "execution_count": 4,
   "metadata": {},
   "outputs": [],
   "source": [
    "# model = DQN(global_config, train_config).to(global_config.device)\n",
    "\n",
    "# env = get_env(global_config, train_config, 1.0, render_gif=True)\n",
    "# state, info = env.reset()\n",
    "# processed_state = preprocess(state, info)\n",
    "# done = False\n",
    "# r = Reward(global_config, train_config)\n",
    "# actions = model.get_actions(processed_state, random=True)\n",
    "# text_info = [get_text_info(r, info, env, model)]\n",
    "\n",
    "# while not done:    \n",
    "#     next_state, done, next_info = env.step(actions)\n",
    "#     next_processed_state = preprocess(next_state, next_info)\n",
    "#     _ = r(processed_state, info, next_processed_state, next_info)\n",
    "#     info, processed_state = next_info, next_processed_state\n",
    "#     actions = model.get_actions(processed_state, random=True)\n",
    "#     text_info.append(get_text_info(r, next_info, env, model))  # for display\n",
    "\n",
    "# create_gif(env, '123.gif', duration=1., text_info=text_info)\n",
    "create_video_from_gif('123.gif')"
   ]
  },
  {
   "cell_type": "code",
   "execution_count": 15,
   "metadata": {},
   "outputs": [],
   "source": [
    "model = DQN(global_config, train_config).to(global_config.device)\n",
    "model.load('logs/39/weights/35k_steps_0.39_score.pt')\n",
    "\n",
    "torch.save(model, 'model.pt')"
   ]
  },
  {
   "cell_type": "code",
   "execution_count": 18,
   "metadata": {},
   "outputs": [
    {
     "name": "stderr",
     "output_type": "stream",
     "text": [
      "Evaluation:   0%|          | 0/20 [00:00<?, ?it/s]"
     ]
    },
    {
     "name": "stderr",
     "output_type": "stream",
     "text": [
      "/Users/maksimkoltugin/Desktop/код/ВШЭ/RL_course_Predators_and_Preys/.venv/lib/python3.9/site-packages/torch/_tensor.py:836: UserWarning: non-inplace resize is deprecated\n",
      "  warnings.warn(\"non-inplace resize is deprecated\")\n",
      "Evaluation: 100%|██████████| 20/20 [02:36<00:00,  7.85s/it]\n"
     ]
    },
    {
     "data": {
      "text/plain": [
       "0.5102318855018495"
      ]
     },
     "execution_count": 18,
     "metadata": {},
     "output_type": "execute_result"
    }
   ],
   "source": [
    "model_loaded = DQN(global_config, train_config).to(global_config.device)\n",
    "model_loaded.load_state_dict(torch.load('logs/41/weights/26k_steps_0.53_score.pt'))\n",
    "evaluate(model_loaded, 20)"
   ]
  },
  {
   "cell_type": "code",
   "execution_count": 19,
   "metadata": {},
   "outputs": [
    {
     "name": "stderr",
     "output_type": "stream",
     "text": [
      "Evaluation:  30%|███       | 6/20 [00:49<01:56,  8.30s/it]/Users/maksimkoltugin/Desktop/код/ВШЭ/RL_course_Predators_and_Preys/modules/preprocess.py:32: RuntimeWarning: divide by zero encountered in divide\n",
      "  distance_mask = distance_mask / distance_mask.max()\n",
      "/Users/maksimkoltugin/Desktop/код/ВШЭ/RL_course_Predators_and_Preys/modules/preprocess.py:32: RuntimeWarning: invalid value encountered in divide\n",
      "  distance_mask = distance_mask / distance_mask.max()\n",
      "Evaluation: 100%|██████████| 20/20 [02:43<00:00,  8.18s/it]\n"
     ]
    },
    {
     "data": {
      "text/plain": [
       "0.48153686894242176"
      ]
     },
     "execution_count": 19,
     "metadata": {},
     "output_type": "execute_result"
    }
   ],
   "source": [
    "model_loaded = DQN(global_config, train_config).to(global_config.device)\n",
    "model_loaded.load_state_dict(torch.load('logs/41/weights/16k_steps_0.55_score.pt'))\n",
    "evaluate(model_loaded, 20)"
   ]
  },
  {
   "cell_type": "code",
   "execution_count": 20,
   "metadata": {},
   "outputs": [
    {
     "name": "stderr",
     "output_type": "stream",
     "text": [
      "Evaluation: 100%|██████████| 20/20 [02:49<00:00,  8.47s/it]\n"
     ]
    },
    {
     "data": {
      "text/plain": [
       "0.5380277806732942"
      ]
     },
     "execution_count": 20,
     "metadata": {},
     "output_type": "execute_result"
    }
   ],
   "source": [
    "model_loaded = DQN(global_config, train_config).to(global_config.device)\n",
    "model_loaded.load_state_dict(torch.load('logs/41/weights/28k_steps_0.55_score.pt'))\n",
    "evaluate(model_loaded, 20)"
   ]
  },
  {
   "cell_type": "code",
   "execution_count": 25,
   "metadata": {},
   "outputs": [
    {
     "name": "stderr",
     "output_type": "stream",
     "text": [
      "Evaluation:   0%|          | 0/20 [00:00<?, ?it/s]"
     ]
    },
    {
     "name": "stderr",
     "output_type": "stream",
     "text": [
      "/Users/maksimkoltugin/Desktop/код/ВШЭ/RL_course_Predators_and_Preys/.venv/lib/python3.9/site-packages/torch/_tensor.py:836: UserWarning: non-inplace resize is deprecated\n",
      "  warnings.warn(\"non-inplace resize is deprecated\")\n",
      "Evaluation: 100%|██████████| 20/20 [02:50<00:00,  8.51s/it]\n"
     ]
    },
    {
     "data": {
      "text/plain": [
       "0.5200848616549356"
      ]
     },
     "execution_count": 25,
     "metadata": {},
     "output_type": "execute_result"
    }
   ],
   "source": [
    "model_loaded = DQN(global_config, train_config).to(global_config.device)\n",
    "model_loaded.load('logs/41/weights/30k_steps_0.51_score.pt')\n",
    "evaluate(model_loaded, 20)"
   ]
  },
  {
   "cell_type": "code",
   "execution_count": 28,
   "metadata": {},
   "outputs": [
    {
     "name": "stderr",
     "output_type": "stream",
     "text": [
      "Evaluation:   0%|          | 0/10 [00:00<?, ?it/s]"
     ]
    },
    {
     "name": "stderr",
     "output_type": "stream",
     "text": [
      "Evaluation: 100%|██████████| 10/10 [01:19<00:00,  7.93s/it]\n"
     ]
    },
    {
     "data": {
      "text/plain": [
       "0.5294536852435661"
      ]
     },
     "execution_count": 28,
     "metadata": {},
     "output_type": "execute_result"
    }
   ],
   "source": [
    "model_loaded = DQN(global_config, train_config).to(global_config.device)\n",
    "model_loaded.load('logs/41/weights/32k_steps_0.49_score.pt')\n",
    "evaluate(model_loaded, 10)"
   ]
  },
  {
   "cell_type": "code",
   "execution_count": 35,
   "metadata": {},
   "outputs": [
    {
     "name": "stderr",
     "output_type": "stream",
     "text": [
      "Evaluation:   0%|          | 0/20 [00:00<?, ?it/s]/Users/maksimkoltugin/Desktop/код/ВШЭ/RL_course_Predators_and_Preys/.venv/lib/python3.9/site-packages/torch/_tensor.py:836: UserWarning: non-inplace resize is deprecated\n",
      "  warnings.warn(\"non-inplace resize is deprecated\")\n",
      "Evaluation:  95%|█████████▌| 19/20 [02:24<00:07,  7.38s/it]/Users/maksimkoltugin/Desktop/код/ВШЭ/RL_course_Predators_and_Preys/modules/preprocess.py:32: RuntimeWarning: divide by zero encountered in divide\n",
      "  distance_mask = distance_mask / distance_mask.max()\n",
      "/Users/maksimkoltugin/Desktop/код/ВШЭ/RL_course_Predators_and_Preys/modules/preprocess.py:32: RuntimeWarning: invalid value encountered in divide\n",
      "  distance_mask = distance_mask / distance_mask.max()\n",
      "Evaluation: 100%|██████████| 20/20 [02:32<00:00,  7.63s/it]\n"
     ]
    },
    {
     "data": {
      "text/plain": [
       "0.5383105047981548"
      ]
     },
     "execution_count": 35,
     "metadata": {},
     "output_type": "execute_result"
    }
   ],
   "source": [
    "model_loaded = DQN(global_config, train_config).to(global_config.device)\n",
    "model_loaded.load('logs/41/weights/34k_steps_0.53_score.pt')\n",
    "evaluate(model_loaded, 20)"
   ]
  },
  {
   "cell_type": "code",
   "execution_count": 37,
   "metadata": {},
   "outputs": [
    {
     "name": "stderr",
     "output_type": "stream",
     "text": [
      "Evaluation: 100%|██████████| 30/30 [04:24<00:00,  8.82s/it]\n"
     ]
    },
    {
     "data": {
      "text/plain": [
       "0.5271020697716284"
      ]
     },
     "execution_count": 37,
     "metadata": {},
     "output_type": "execute_result"
    }
   ],
   "source": [
    "model_loaded = DQN(global_config, train_config).to(global_config.device)\n",
    "model_loaded.load('logs/41/weights/36k_steps_0.57_score.pt')\n",
    "evaluate(model_loaded, 30)"
   ]
  },
  {
   "cell_type": "code",
   "execution_count": 4,
   "metadata": {},
   "outputs": [
    {
     "name": "stderr",
     "output_type": "stream",
     "text": [
      "Evaluation:   0%|          | 0/30 [00:00<?, ?it/s]"
     ]
    },
    {
     "name": "stderr",
     "output_type": "stream",
     "text": [
      "Evaluation: 100%|██████████| 30/30 [03:48<00:00,  7.63s/it]\n"
     ]
    },
    {
     "data": {
      "text/plain": [
       "0.5368669507405168"
      ]
     },
     "execution_count": 4,
     "metadata": {},
     "output_type": "execute_result"
    }
   ],
   "source": [
    "model_loaded = DQN(global_config, train_config).to(global_config.device)\n",
    "model_loaded.load('logs/42/weights/32k_steps_0.54_score.pt')\n",
    "evaluate(model_loaded, 30) # prev was 54.18. next 53.68"
   ]
  },
  {
   "cell_type": "code",
   "execution_count": 5,
   "metadata": {},
   "outputs": [
    {
     "name": "stderr",
     "output_type": "stream",
     "text": [
      "Evaluation:   0%|          | 0/30 [00:00<?, ?it/s]/Users/maksimkoltugin/Desktop/код/ВШЭ/RL_course_Predators_and_Preys/.venv/lib/python3.9/site-packages/torch/_tensor.py:836: UserWarning: non-inplace resize is deprecated\n",
      "  warnings.warn(\"non-inplace resize is deprecated\")\n",
      "Evaluation: 100%|██████████| 30/30 [04:19<00:00,  8.65s/it]\n"
     ]
    },
    {
     "data": {
      "text/plain": [
       "0.5126152804838585"
      ]
     },
     "execution_count": 5,
     "metadata": {},
     "output_type": "execute_result"
    }
   ],
   "source": [
    "model_loaded = DQN(global_config, train_config).to(global_config.device)\n",
    "model_loaded.load('logs/42/weights/38k_steps_0.52_score.pt')\n",
    "evaluate(model_loaded, 30) "
   ]
  },
  {
   "cell_type": "code",
   "execution_count": 6,
   "metadata": {},
   "outputs": [
    {
     "name": "stderr",
     "output_type": "stream",
     "text": [
      "Evaluation: 100%|██████████| 30/30 [03:51<00:00,  7.72s/it]\n"
     ]
    },
    {
     "data": {
      "text/plain": [
       "0.5136014512674422"
      ]
     },
     "execution_count": 6,
     "metadata": {},
     "output_type": "execute_result"
    }
   ],
   "source": [
    "model_loaded = DQN(global_config, train_config).to(global_config.device)\n",
    "model_loaded.load('logs/42/weights/40k_steps_0.5_score.pt')\n",
    "evaluate(model_loaded, 30) "
   ]
  }
 ],
 "metadata": {
  "kernelspec": {
   "display_name": ".venv",
   "language": "python",
   "name": "python3"
  },
  "language_info": {
   "codemirror_mode": {
    "name": "ipython",
    "version": 3
   },
   "file_extension": ".py",
   "mimetype": "text/x-python",
   "name": "python",
   "nbconvert_exporter": "python",
   "pygments_lexer": "ipython3",
   "version": "3.9.6"
  }
 },
 "nbformat": 4,
 "nbformat_minor": 2
}
