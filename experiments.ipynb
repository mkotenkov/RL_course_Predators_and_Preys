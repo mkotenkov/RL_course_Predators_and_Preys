{
 "cells": [
  {
   "cell_type": "code",
   "execution_count": null,
   "metadata": {},
   "outputs": [],
   "source": [
    "from matplotlib import pyplot as plt\n",
    "\n",
    "ys = []\n",
    "xs = list(range(2, 5))\n",
    "for i, n_nearest_targets in tqdm(enumerate(xs)):\n",
    "    params = cfg.reward_params.copy()\n",
    "    params[\"n_nearest_targets\"] = n_nearest_targets\n",
    "    model = RewardBasedModel(params)\n",
    "    ys.append(evaluate(model, n_episodes=20))\n",
    "\n",
    "plt.figure(figsize=(7, 5))\n",
    "plt.plot(xs, ys)\n",
    "plt.xlabel('n_nearest_targets')\n",
    "plt.xticks(xs)\n",
    "plt.title('Avg of 20 episodes: \\n score / (bot_score + score)')\n",
    "plt.axis(ymin=0.4, ymax=0.6)\n",
    "plt.axhline(0.5, color='red', linestyle='--')\n",
    "plt.show()"
   ]
  }
 ],
 "metadata": {
  "language_info": {
   "name": "python"
  }
 },
 "nbformat": 4,
 "nbformat_minor": 2
}
